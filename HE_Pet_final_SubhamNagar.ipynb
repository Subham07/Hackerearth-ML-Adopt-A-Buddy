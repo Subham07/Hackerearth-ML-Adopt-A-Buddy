{
  "nbformat": 4,
  "nbformat_minor": 0,
  "metadata": {
    "colab": {
      "name": "HE_Pet_new.ipynb",
      "provenance": [],
      "collapsed_sections": []
    },
    "kernelspec": {
      "name": "python3",
      "display_name": "Python 3"
    },
    "accelerator": "GPU"
  },
  "cells": [
    {
      "cell_type": "code",
      "metadata": {
        "id": "QwG0-91vImlB",
        "colab_type": "code",
        "colab": {
          "base_uri": "https://localhost:8080/",
          "height": 122
        },
        "outputId": "2bf17005-dcaf-4647-8b82-7390cd0b0faf"
      },
      "source": [
        "from google.colab import drive\n",
        "drive.mount('/content/drive')"
      ],
      "execution_count": null,
      "outputs": [
        {
          "output_type": "stream",
          "text": [
            "Go to this URL in a browser: https://accounts.google.com/o/oauth2/auth?client_id=947318989803-6bn6qk8qdgf4n4g3pfee6491hc0brc4i.apps.googleusercontent.com&redirect_uri=urn%3aietf%3awg%3aoauth%3a2.0%3aoob&scope=email%20https%3a%2f%2fwww.googleapis.com%2fauth%2fdocs.test%20https%3a%2f%2fwww.googleapis.com%2fauth%2fdrive%20https%3a%2f%2fwww.googleapis.com%2fauth%2fdrive.photos.readonly%20https%3a%2f%2fwww.googleapis.com%2fauth%2fpeopleapi.readonly&response_type=code\n",
            "\n",
            "Enter your authorization code:\n",
            "··········\n",
            "Mounted at /content/drive\n"
          ],
          "name": "stdout"
        }
      ]
    },
    {
      "cell_type": "markdown",
      "metadata": {
        "id": "Snuh_QDoTVmR",
        "colab_type": "text"
      },
      "source": [
        "# Hackerearth ML Challenge : Adopt a Buddy \n",
        "\n",
        "Problem Description: [Hackerearth Link](https://www.hackerearth.com/challenges/competitive/hackerearth-machine-learning-challenge-pet-adoption/machine-learning/pet-adoption-9-5838c75b/) \\\n",
        "\n",
        "We have been given training and testing dataset which has columns like the Pet_Id , Condition , Color , Issue and Listing Date. The target variables are the breed_category and pet_category which we need to predict \\\n",
        "\n",
        "As there are two classes , the approach taken is training two models for each classes and then testing seperately and appending the final result. \\"
      ]
    },
    {
      "cell_type": "markdown",
      "metadata": {
        "id": "ap_kN2NOTTaQ",
        "colab_type": "text"
      },
      "source": [
        "## Importing Dataset"
      ]
    },
    {
      "cell_type": "code",
      "metadata": {
        "id": "D94FwmO59neb",
        "colab_type": "code",
        "colab": {}
      },
      "source": [
        "import pandas as pd\n",
        "df_train=pd.read_csv('drive/My Drive/train_pet.csv')\n",
        "df_test=pd.read_csv('drive/My Drive/test_pet.csv')"
      ],
      "execution_count": null,
      "outputs": []
    },
    {
      "cell_type": "code",
      "metadata": {
        "id": "RysK5ZSe_vME",
        "colab_type": "code",
        "colab": {
          "base_uri": "https://localhost:8080/",
          "height": 289
        },
        "outputId": "6d0f6fd6-abeb-45b0-9e03-eef40b428aaa"
      },
      "source": [
        "print(df_train.head())\n",
        "print(df_train.tail())"
      ],
      "execution_count": null,
      "outputs": [
        {
          "output_type": "stream",
          "text": [
            "       pet_id           issue_date  ... breed_category  pet_category\n",
            "0  ANSL_69903  2016-07-10 00:00:00  ...            0.0             1\n",
            "1  ANSL_66892  2013-11-21 00:00:00  ...            0.0             2\n",
            "2  ANSL_69750  2014-09-28 00:00:00  ...            2.0             4\n",
            "3  ANSL_71623  2016-12-31 00:00:00  ...            0.0             2\n",
            "4  ANSL_57969  2017-09-28 00:00:00  ...            0.0             1\n",
            "\n",
            "[5 rows x 11 columns]\n",
            "           pet_id           issue_date  ... breed_category  pet_category\n",
            "18829  ANSL_51738  2017-01-26 00:00:00  ...            0.0             2\n",
            "18830  ANSL_59900  2016-06-18 00:00:00  ...            2.0             4\n",
            "18831  ANSL_53210  2010-07-21 00:00:00  ...            1.0             1\n",
            "18832  ANSL_63468  2017-05-12 00:00:00  ...            1.0             2\n",
            "18833  ANSL_73558  2011-12-13 00:00:00  ...            1.0             2\n",
            "\n",
            "[5 rows x 11 columns]\n"
          ],
          "name": "stdout"
        }
      ]
    },
    {
      "cell_type": "markdown",
      "metadata": {
        "id": "yWxypyDAU-XL",
        "colab_type": "text"
      },
      "source": [
        "# Viewing the columns"
      ]
    },
    {
      "cell_type": "code",
      "metadata": {
        "id": "dVvW9px9Am18",
        "colab_type": "code",
        "colab": {
          "base_uri": "https://localhost:8080/",
          "height": 85
        },
        "outputId": "c51a3f93-5b16-473d-d889-a929697b254a"
      },
      "source": [
        "print(df_train.columns)"
      ],
      "execution_count": null,
      "outputs": [
        {
          "output_type": "stream",
          "text": [
            "Index(['pet_id', 'issue_date', 'listing_date', 'condition', 'color_type',\n",
            "       'length(m)', 'height(cm)', 'X1', 'X2', 'breed_category',\n",
            "       'pet_category'],\n",
            "      dtype='object')\n"
          ],
          "name": "stdout"
        }
      ]
    },
    {
      "cell_type": "markdown",
      "metadata": {
        "id": "DAlONxcsVH0e",
        "colab_type": "text"
      },
      "source": [
        "# Displaying the Unique values"
      ]
    },
    {
      "cell_type": "code",
      "metadata": {
        "id": "AaWN7mtTADhe",
        "colab_type": "code",
        "colab": {
          "base_uri": "https://localhost:8080/",
          "height": 34
        },
        "outputId": "ba03ebc6-cb34-4ec9-8314-961a232160b5"
      },
      "source": [
        "print(df_train['pet_category'].unique())"
      ],
      "execution_count": null,
      "outputs": [
        {
          "output_type": "stream",
          "text": [
            "[1 2 4 0]\n"
          ],
          "name": "stdout"
        }
      ]
    },
    {
      "cell_type": "code",
      "metadata": {
        "id": "EL2jW6X8_7ZP",
        "colab_type": "code",
        "colab": {
          "base_uri": "https://localhost:8080/",
          "height": 34
        },
        "outputId": "bfbe4d94-83fc-4384-faac-33b1bc1ae211"
      },
      "source": [
        "y_train=df_train['pet_category'].values\n",
        "print(y_train)"
      ],
      "execution_count": null,
      "outputs": [
        {
          "output_type": "stream",
          "text": [
            "[1 2 4 ... 1 2 2]\n"
          ],
          "name": "stdout"
        }
      ]
    },
    {
      "cell_type": "code",
      "metadata": {
        "id": "P98WaBX_AQkw",
        "colab_type": "code",
        "colab": {
          "base_uri": "https://localhost:8080/",
          "height": 221
        },
        "outputId": "d805a7d4-d550-4d47-8c8e-5147920cabc1"
      },
      "source": [
        "print(df_train['condition'].unique())\n",
        "print(df_train['color_type'].unique())\n",
        "print(df_train['breed_category'].unique())"
      ],
      "execution_count": null,
      "outputs": [
        {
          "output_type": "stream",
          "text": [
            "[ 2.  1. nan  0.]\n",
            "['Brown Tabby' 'White' 'Brown' 'Black' 'Red' 'Tricolor' 'Calico'\n",
            " 'Brown Brindle' 'Blue' 'Tortie' 'Gray' 'Fawn' 'Buff' 'Torbie'\n",
            " 'Orange Tabby' 'Sable' 'Tan' 'Blue Tick' 'Orange' 'Blue Tabby'\n",
            " 'Chocolate' 'Black Tabby' 'Black Brindle' 'Cream Tabby' 'Gold'\n",
            " 'Calico Point' 'Blue Merle' 'Red Merle' 'Yellow' 'Lynx Point'\n",
            " 'Blue Cream' 'Flame Point' 'Cream' 'Yellow Brindle' 'Blue Tiger'\n",
            " 'Seal Point' 'Red Tick' 'Brown Merle' 'Black Smoke' 'Gray Tabby' 'Green'\n",
            " 'Tortie Point' 'Blue Smoke' 'Apricot' 'Blue Point' 'Silver Tabby'\n",
            " 'Lilac Point' 'Silver' 'Brown Tiger' 'Liver' 'Agouti' 'Chocolate Point'\n",
            " 'Liver Tick' 'Pink' 'Black Tiger' 'Silver Lynx Point']\n",
            "[0. 2. 1.]\n"
          ],
          "name": "stdout"
        }
      ]
    },
    {
      "cell_type": "code",
      "metadata": {
        "id": "XK7X_tKgBD4v",
        "colab_type": "code",
        "colab": {
          "base_uri": "https://localhost:8080/",
          "height": 204
        },
        "outputId": "e1f1b780-e9c7-4190-a5f8-b6255094f300"
      },
      "source": [
        "print(df_train['length(m)'].unique())\n",
        "print(df_train['height(cm)'].unique())\n",
        "print(df_train['X1'].unique())\n",
        "print(df_train['X2'].unique())"
      ],
      "execution_count": null,
      "outputs": [
        {
          "output_type": "stream",
          "text": [
            "[0.8  0.72 0.15 0.62 0.5  0.92 0.14 0.05 0.55 0.3  0.44 0.2  0.45 0.48\n",
            " 0.18 0.88 0.93 0.76 0.96 0.66 0.31 0.51 0.53 0.32 0.98 0.68 0.16 0.6\n",
            " 0.83 0.03 0.91 0.73 0.9  0.65 0.79 0.08 0.52 0.42 0.07 0.41 0.54 0.19\n",
            " 0.67 0.7  0.33 0.09 0.04 0.38 0.1  0.49 0.24 0.17 0.27 0.58 0.01 0.56\n",
            " 0.46 0.64 0.   0.89 0.43 0.02 0.21 0.11 0.84 0.06 0.61 0.81 0.82 0.99\n",
            " 0.95 0.37 0.69 0.63 0.36 0.97 0.4  0.77 1.   0.47 0.87 0.29 0.12 0.26\n",
            " 0.85 0.28 0.78 0.86 0.71 0.74 0.75 0.22 0.35 0.57 0.39 0.94 0.25 0.13\n",
            " 0.23 0.59 0.34]\n",
            "[ 7.78 14.19 40.9  ... 17.28 12.35 42.87]\n",
            "[13 15  0 18  7 16 11  9 12 17  2  8  3  1  4 10  6  5 19 14]\n",
            "[9 4 1 7 6 2 8 3 5 0]\n"
          ],
          "name": "stdout"
        }
      ]
    },
    {
      "cell_type": "markdown",
      "metadata": {
        "id": "qFN8zbDbVgtR",
        "colab_type": "text"
      },
      "source": [
        "# Calculating the no. of NAN values"
      ]
    },
    {
      "cell_type": "markdown",
      "metadata": {
        "id": "zNOL2CKVVnqE",
        "colab_type": "text"
      },
      "source": [
        "Training dataset stats"
      ]
    },
    {
      "cell_type": "code",
      "metadata": {
        "id": "3F67IEq7Bn9z",
        "colab_type": "code",
        "colab": {
          "base_uri": "https://localhost:8080/",
          "height": 136
        },
        "outputId": "a4612d4e-0d9f-43c3-f65e-8aede6bb3ec8"
      },
      "source": [
        "print(df_train['length(m)'].isna().sum())\n",
        "print(df_train['height(cm)'].isna().sum())\n",
        "print(df_train['X1'].isna().sum())\n",
        "print(df_train['X2'].isna().sum())\n",
        "\n",
        "print(df_train['condition'].isna().sum())\n",
        "print(df_train['color_type'].isna().sum())\n",
        "print(df_train['breed_category'].isna().sum())"
      ],
      "execution_count": null,
      "outputs": [
        {
          "output_type": "stream",
          "text": [
            "0\n",
            "0\n",
            "0\n",
            "0\n",
            "1477\n",
            "0\n",
            "0\n"
          ],
          "name": "stdout"
        }
      ]
    },
    {
      "cell_type": "markdown",
      "metadata": {
        "id": "ubCYxa04VtAx",
        "colab_type": "text"
      },
      "source": [
        "Testing dataset stats"
      ]
    },
    {
      "cell_type": "code",
      "metadata": {
        "id": "fZb5ncaMeqZz",
        "colab_type": "code",
        "colab": {
          "base_uri": "https://localhost:8080/",
          "height": 119
        },
        "outputId": "d1e2d99b-3fce-4517-b3b4-2c2972ad23e2"
      },
      "source": [
        "print(df_test['length(m)'].isna().sum())\n",
        "print(df_test['height(cm)'].isna().sum())\n",
        "print(df_test['X1'].isna().sum())\n",
        "print(df_test['X2'].isna().sum())\n",
        "\n",
        "print(df_test['condition'].isna().sum())\n",
        "print(df_test['color_type'].isna().sum())\n",
        "#print(df_test['breed_category'].isna().sum())"
      ],
      "execution_count": null,
      "outputs": [
        {
          "output_type": "stream",
          "text": [
            "0\n",
            "0\n",
            "0\n",
            "0\n",
            "619\n",
            "0\n"
          ],
          "name": "stdout"
        }
      ]
    },
    {
      "cell_type": "markdown",
      "metadata": {
        "id": "Uyv-IqXsV5gh",
        "colab_type": "text"
      },
      "source": [
        "**Observation:** The column 'condition' is having many Nan values"
      ]
    },
    {
      "cell_type": "code",
      "metadata": {
        "id": "_ssT4uAJB_zX",
        "colab_type": "code",
        "colab": {
          "base_uri": "https://localhost:8080/",
          "height": 340
        },
        "outputId": "07ac4d6b-79ba-4fb6-d358-fb90a9182e57"
      },
      "source": [
        "print(df_train.groupby(['condition']).size())\n",
        "\n",
        "print(df_train[df_train['condition'].isnull()])"
      ],
      "execution_count": null,
      "outputs": [
        {
          "output_type": "stream",
          "text": [
            "condition\n",
            "0.0    6281\n",
            "1.0    6819\n",
            "2.0    4257\n",
            "dtype: int64\n",
            "           pet_id           issue_date  ... breed_category  pet_category\n",
            "2      ANSL_69750  2014-09-28 00:00:00  ...            2.0             4\n",
            "21     ANSL_50488  2018-01-07 00:00:00  ...            2.0             4\n",
            "35     ANSL_54000  2018-01-14 00:00:00  ...            2.0             1\n",
            "38     ANSL_50330  2017-07-27 00:00:00  ...            2.0             4\n",
            "43     ANSL_58673  2017-12-29 00:00:00  ...            2.0             1\n",
            "...           ...                  ...  ...            ...           ...\n",
            "18761  ANSL_62681  2017-09-17 00:00:00  ...            2.0             1\n",
            "18777  ANSL_69550  2016-07-15 00:00:00  ...            2.0             1\n",
            "18801  ANSL_65823  2009-03-22 00:00:00  ...            2.0             1\n",
            "18812  ANSL_63707  2014-10-29 00:00:00  ...            2.0             4\n",
            "18830  ANSL_59900  2016-06-18 00:00:00  ...            2.0             4\n",
            "\n",
            "[1477 rows x 11 columns]\n"
          ],
          "name": "stdout"
        }
      ]
    },
    {
      "cell_type": "code",
      "metadata": {
        "id": "avy0k7s5FXRQ",
        "colab_type": "code",
        "colab": {
          "base_uri": "https://localhost:8080/",
          "height": 34
        },
        "outputId": "e1bccba4-fb8c-4f86-c2ff-abc1a4c55c0d"
      },
      "source": [
        "print(df_train[df_train['condition'].isnull()]['breed_category'].unique())"
      ],
      "execution_count": null,
      "outputs": [
        {
          "output_type": "stream",
          "text": [
            "[2.]\n"
          ],
          "name": "stdout"
        }
      ]
    },
    {
      "cell_type": "markdown",
      "metadata": {
        "id": "5c5WlfUgFcNQ",
        "colab_type": "text"
      },
      "source": [
        "**Observation:** Only For breed_category 2.0 , condition value is null"
      ]
    },
    {
      "cell_type": "code",
      "metadata": {
        "id": "rS_jM7NyFspO",
        "colab_type": "code",
        "colab": {
          "base_uri": "https://localhost:8080/",
          "height": 221
        },
        "outputId": "c48fc3c2-3c82-4535-da9b-d143d12974cf"
      },
      "source": [
        "df_train[df_train['breed_category']==2].count()"
      ],
      "execution_count": null,
      "outputs": [
        {
          "output_type": "execute_result",
          "data": {
            "text/plain": [
              "pet_id            1477\n",
              "issue_date        1477\n",
              "listing_date      1477\n",
              "condition            0\n",
              "color_type        1477\n",
              "length(m)         1477\n",
              "height(cm)        1477\n",
              "X1                1477\n",
              "X2                1477\n",
              "breed_category    1477\n",
              "pet_category      1477\n",
              "dtype: int64"
            ]
          },
          "metadata": {
            "tags": []
          },
          "execution_count": 12
        }
      ]
    },
    {
      "cell_type": "markdown",
      "metadata": {
        "id": "obbQ49QAGA9J",
        "colab_type": "text"
      },
      "source": [
        "So, we can give a unique value for condition where it is null"
      ]
    },
    {
      "cell_type": "markdown",
      "metadata": {
        "id": "Vtw0vJOvXA93",
        "colab_type": "text"
      },
      "source": [
        "# Clearing NAN value in 'condition' column"
      ]
    },
    {
      "cell_type": "code",
      "metadata": {
        "id": "8y5y928mGHRK",
        "colab_type": "code",
        "colab": {}
      },
      "source": [
        "import numpy as np\n",
        "df_train['condition']=df_train['condition'].replace(np.nan,3)"
      ],
      "execution_count": null,
      "outputs": []
    },
    {
      "cell_type": "code",
      "metadata": {
        "id": "6UAuhyy5fHm9",
        "colab_type": "code",
        "colab": {}
      },
      "source": [
        "df_test['condition']=df_test['condition'].replace(np.nan,3)"
      ],
      "execution_count": null,
      "outputs": []
    },
    {
      "cell_type": "code",
      "metadata": {
        "id": "ez8CpnEKHBth",
        "colab_type": "code",
        "colab": {
          "base_uri": "https://localhost:8080/",
          "height": 170
        },
        "outputId": "7fe6c2bd-5c3b-42fb-b414-7991b509f391"
      },
      "source": [
        "print(df_train.groupby(['condition']).size())\n",
        "\n",
        "print(df_train[df_train['condition'].isnull()])"
      ],
      "execution_count": null,
      "outputs": [
        {
          "output_type": "stream",
          "text": [
            "condition\n",
            "0.0    6281\n",
            "1.0    6819\n",
            "2.0    4257\n",
            "3.0    1477\n",
            "dtype: int64\n",
            "Empty DataFrame\n",
            "Columns: [pet_id, issue_date, listing_date, condition, color_type, length(m), height(cm), X1, X2, breed_category, pet_category]\n",
            "Index: []\n"
          ],
          "name": "stdout"
        }
      ]
    },
    {
      "cell_type": "markdown",
      "metadata": {
        "id": "4_BvkXboYPZ_",
        "colab_type": "text"
      },
      "source": [
        "# Finding difference between issue_date and listing_date in days"
      ]
    },
    {
      "cell_type": "markdown",
      "metadata": {
        "id": "Qka8ilgcXWYi",
        "colab_type": "text"
      },
      "source": [
        "Calculating Difference and adding feature for training data"
      ]
    },
    {
      "cell_type": "code",
      "metadata": {
        "id": "Tq5i_WieSO9B",
        "colab_type": "code",
        "colab": {
          "base_uri": "https://localhost:8080/",
          "height": 34
        },
        "outputId": "402b945e-9afb-4d98-d2a7-41f646451ce3"
      },
      "source": [
        "df_train['diff_days']=np.abs((pd.to_datetime(df_train['listing_date'].values)-pd.to_datetime(df_train['issue_date'].values)).days)\n",
        "\n",
        "print(df_train['diff_days'].values)"
      ],
      "execution_count": null,
      "outputs": [
        {
          "output_type": "stream",
          "text": [
            "[  73 1862  752 ... 2954  272 2509]\n"
          ],
          "name": "stdout"
        }
      ]
    },
    {
      "cell_type": "markdown",
      "metadata": {
        "id": "P9bXvb8QXbAA",
        "colab_type": "text"
      },
      "source": [
        "Calculating Difference and adding feature for testing data"
      ]
    },
    {
      "cell_type": "code",
      "metadata": {
        "id": "QF4DSJHIfTmh",
        "colab_type": "code",
        "colab": {
          "base_uri": "https://localhost:8080/",
          "height": 34
        },
        "outputId": "779e0aa3-99b1-41d0-f01a-f886e97d0f7d"
      },
      "source": [
        "df_test['diff_days']=(pd.to_datetime(df_test['listing_date'].values)-pd.to_datetime(df_test['issue_date'].values)).days\n",
        "\n",
        "print(df_test['diff_days'].values)"
      ],
      "execution_count": null,
      "outputs": [
        {
          "output_type": "stream",
          "text": [
            "[4404  174 1999 ...  393  387  392]\n"
          ],
          "name": "stdout"
        }
      ]
    },
    {
      "cell_type": "markdown",
      "metadata": {
        "id": "sGYfLlv0XfnP",
        "colab_type": "text"
      },
      "source": [
        "Checking the correctness of difference (in days)"
      ]
    },
    {
      "cell_type": "code",
      "metadata": {
        "id": "WXS2kfhfVYKQ",
        "colab_type": "code",
        "colab": {
          "base_uri": "https://localhost:8080/",
          "height": 34
        },
        "outputId": "47f0fa02-f8ff-4f36-cf79-8c72d8c26f9a"
      },
      "source": [
        "print(df_train['issue_date'][5], \" \", df_train['listing_date'][5], \" \",df_train['diff_days'][5])"
      ],
      "execution_count": null,
      "outputs": [
        {
          "output_type": "stream",
          "text": [
            "2017-10-25 00:00:00   2019-03-10 13:18:00   501\n"
          ],
          "name": "stdout"
        }
      ]
    },
    {
      "cell_type": "markdown",
      "metadata": {
        "id": "NeCeyi-IXeuq",
        "colab_type": "text"
      },
      "source": [
        "So, we have added new feature 'diff_days' which describes difference in days between listing date and issue date. \\\n"
      ]
    },
    {
      "cell_type": "markdown",
      "metadata": {
        "id": "fFygx4pmZN3U",
        "colab_type": "text"
      },
      "source": [
        "# Removing date-time columns"
      ]
    },
    {
      "cell_type": "markdown",
      "metadata": {
        "id": "X1PokKC6ZUL1",
        "colab_type": "text"
      },
      "source": [
        "Dropping columns from training dataset"
      ]
    },
    {
      "cell_type": "code",
      "metadata": {
        "id": "KRvWQNYuXmYU",
        "colab_type": "code",
        "colab": {
          "base_uri": "https://localhost:8080/",
          "height": 204
        },
        "outputId": "453fdd62-8ba7-4c8d-90e5-9d95f36ebc55"
      },
      "source": [
        "df_train_new=df_train.drop(columns=['issue_date','listing_date'])\n",
        "\n",
        "print(df_train_new.head())\n",
        "print(df_train_new.columns)"
      ],
      "execution_count": null,
      "outputs": [
        {
          "output_type": "stream",
          "text": [
            "       pet_id  condition   color_type  ...  breed_category  pet_category  diff_days\n",
            "0  ANSL_69903        2.0  Brown Tabby  ...             0.0             1         73\n",
            "1  ANSL_66892        1.0        White  ...             0.0             2       1862\n",
            "2  ANSL_69750        3.0        Brown  ...             2.0             4        752\n",
            "3  ANSL_71623        1.0        White  ...             0.0             2        755\n",
            "4  ANSL_57969        2.0        Black  ...             0.0             1         52\n",
            "\n",
            "[5 rows x 10 columns]\n",
            "Index(['pet_id', 'condition', 'color_type', 'length(m)', 'height(cm)', 'X1',\n",
            "       'X2', 'breed_category', 'pet_category', 'diff_days'],\n",
            "      dtype='object')\n"
          ],
          "name": "stdout"
        }
      ]
    },
    {
      "cell_type": "markdown",
      "metadata": {
        "id": "cjgWcxtoZXOq",
        "colab_type": "text"
      },
      "source": [
        "Dropping columns from testing dataset"
      ]
    },
    {
      "cell_type": "code",
      "metadata": {
        "id": "JwxDIdRnfaDQ",
        "colab_type": "code",
        "colab": {
          "base_uri": "https://localhost:8080/",
          "height": 204
        },
        "outputId": "69545d6c-b027-448e-8975-887ae30cb0a1"
      },
      "source": [
        "df_test_new=df_test.drop(columns=['issue_date','listing_date'])\n",
        "\n",
        "print(df_test_new.head())\n",
        "print(df_test_new.columns)"
      ],
      "execution_count": null,
      "outputs": [
        {
          "output_type": "stream",
          "text": [
            "       pet_id  condition    color_type  ...  X1  X2  diff_days\n",
            "0  ANSL_75005        0.0         Black  ...   0   7       4404\n",
            "1  ANSL_76663        1.0  Orange Tabby  ...   0   1        174\n",
            "2  ANSL_58259        1.0         Black  ...   0   7       1999\n",
            "3  ANSL_67171        1.0         Black  ...   7   1       1148\n",
            "4  ANSL_72871        1.0         Brown  ...   0   7        463\n",
            "\n",
            "[5 rows x 8 columns]\n",
            "Index(['pet_id', 'condition', 'color_type', 'length(m)', 'height(cm)', 'X1',\n",
            "       'X2', 'diff_days'],\n",
            "      dtype='object')\n"
          ],
          "name": "stdout"
        }
      ]
    },
    {
      "cell_type": "markdown",
      "metadata": {
        "id": "jy-4kF40HMDK",
        "colab_type": "text"
      },
      "source": [
        "# Encoding columns of categorical names with numbers\n",
        "\n",
        "Encoding the color_type column in training dataset"
      ]
    },
    {
      "cell_type": "code",
      "metadata": {
        "id": "8V0Ciy9NYT6j",
        "colab_type": "code",
        "colab": {
          "base_uri": "https://localhost:8080/",
          "height": 390
        },
        "outputId": "75267cee-0a02-427d-cbae-7c47de144858"
      },
      "source": [
        "from sklearn.preprocessing import LabelEncoder\n",
        "\n",
        "lb_make = LabelEncoder()\n",
        "df_train_new[\"color_type_code\"] = lb_make.fit_transform(df_train_new[\"color_type\"])\n",
        "df_train_new[[\"color_type\", \"color_type_code\"]].head(11)"
      ],
      "execution_count": null,
      "outputs": [
        {
          "output_type": "execute_result",
          "data": {
            "text/html": [
              "<div>\n",
              "<style scoped>\n",
              "    .dataframe tbody tr th:only-of-type {\n",
              "        vertical-align: middle;\n",
              "    }\n",
              "\n",
              "    .dataframe tbody tr th {\n",
              "        vertical-align: top;\n",
              "    }\n",
              "\n",
              "    .dataframe thead th {\n",
              "        text-align: right;\n",
              "    }\n",
              "</style>\n",
              "<table border=\"1\" class=\"dataframe\">\n",
              "  <thead>\n",
              "    <tr style=\"text-align: right;\">\n",
              "      <th></th>\n",
              "      <th>color_type</th>\n",
              "      <th>color_type_code</th>\n",
              "    </tr>\n",
              "  </thead>\n",
              "  <tbody>\n",
              "    <tr>\n",
              "      <th>0</th>\n",
              "      <td>Brown Tabby</td>\n",
              "      <td>18</td>\n",
              "    </tr>\n",
              "    <tr>\n",
              "      <th>1</th>\n",
              "      <td>White</td>\n",
              "      <td>53</td>\n",
              "    </tr>\n",
              "    <tr>\n",
              "      <th>2</th>\n",
              "      <td>Brown</td>\n",
              "      <td>15</td>\n",
              "    </tr>\n",
              "    <tr>\n",
              "      <th>3</th>\n",
              "      <td>White</td>\n",
              "      <td>53</td>\n",
              "    </tr>\n",
              "    <tr>\n",
              "      <th>4</th>\n",
              "      <td>Black</td>\n",
              "      <td>2</td>\n",
              "    </tr>\n",
              "    <tr>\n",
              "      <th>5</th>\n",
              "      <td>Red</td>\n",
              "      <td>40</td>\n",
              "    </tr>\n",
              "    <tr>\n",
              "      <th>6</th>\n",
              "      <td>Brown Tabby</td>\n",
              "      <td>18</td>\n",
              "    </tr>\n",
              "    <tr>\n",
              "      <th>7</th>\n",
              "      <td>White</td>\n",
              "      <td>53</td>\n",
              "    </tr>\n",
              "    <tr>\n",
              "      <th>8</th>\n",
              "      <td>Brown</td>\n",
              "      <td>15</td>\n",
              "    </tr>\n",
              "    <tr>\n",
              "      <th>9</th>\n",
              "      <td>Brown</td>\n",
              "      <td>15</td>\n",
              "    </tr>\n",
              "    <tr>\n",
              "      <th>10</th>\n",
              "      <td>Tricolor</td>\n",
              "      <td>52</td>\n",
              "    </tr>\n",
              "  </tbody>\n",
              "</table>\n",
              "</div>"
            ],
            "text/plain": [
              "     color_type  color_type_code\n",
              "0   Brown Tabby               18\n",
              "1         White               53\n",
              "2         Brown               15\n",
              "3         White               53\n",
              "4         Black                2\n",
              "5           Red               40\n",
              "6   Brown Tabby               18\n",
              "7         White               53\n",
              "8         Brown               15\n",
              "9         Brown               15\n",
              "10     Tricolor               52"
            ]
          },
          "metadata": {
            "tags": []
          },
          "execution_count": 71
        }
      ]
    },
    {
      "cell_type": "markdown",
      "metadata": {
        "id": "9eGNm0viaIRc",
        "colab_type": "text"
      },
      "source": [
        "Encoding the color_type column in testing dataset"
      ]
    },
    {
      "cell_type": "code",
      "metadata": {
        "id": "-yE4R7r_fhpQ",
        "colab_type": "code",
        "colab": {
          "base_uri": "https://localhost:8080/",
          "height": 390
        },
        "outputId": "679e263c-68f5-4e8f-d133-730a882ae334"
      },
      "source": [
        "df_test_new[\"color_type_code\"] = lb_make.transform(df_test_new[\"color_type\"])\n",
        "df_test_new[[\"color_type\", \"color_type_code\"]].head(11)"
      ],
      "execution_count": null,
      "outputs": [
        {
          "output_type": "execute_result",
          "data": {
            "text/html": [
              "<div>\n",
              "<style scoped>\n",
              "    .dataframe tbody tr th:only-of-type {\n",
              "        vertical-align: middle;\n",
              "    }\n",
              "\n",
              "    .dataframe tbody tr th {\n",
              "        vertical-align: top;\n",
              "    }\n",
              "\n",
              "    .dataframe thead th {\n",
              "        text-align: right;\n",
              "    }\n",
              "</style>\n",
              "<table border=\"1\" class=\"dataframe\">\n",
              "  <thead>\n",
              "    <tr style=\"text-align: right;\">\n",
              "      <th></th>\n",
              "      <th>color_type</th>\n",
              "      <th>color_type_code</th>\n",
              "    </tr>\n",
              "  </thead>\n",
              "  <tbody>\n",
              "    <tr>\n",
              "      <th>0</th>\n",
              "      <td>Black</td>\n",
              "      <td>2</td>\n",
              "    </tr>\n",
              "    <tr>\n",
              "      <th>1</th>\n",
              "      <td>Orange Tabby</td>\n",
              "      <td>38</td>\n",
              "    </tr>\n",
              "    <tr>\n",
              "      <th>2</th>\n",
              "      <td>Black</td>\n",
              "      <td>2</td>\n",
              "    </tr>\n",
              "    <tr>\n",
              "      <th>3</th>\n",
              "      <td>Black</td>\n",
              "      <td>2</td>\n",
              "    </tr>\n",
              "    <tr>\n",
              "      <th>4</th>\n",
              "      <td>Brown</td>\n",
              "      <td>15</td>\n",
              "    </tr>\n",
              "    <tr>\n",
              "      <th>5</th>\n",
              "      <td>Brown Tabby</td>\n",
              "      <td>18</td>\n",
              "    </tr>\n",
              "    <tr>\n",
              "      <th>6</th>\n",
              "      <td>White</td>\n",
              "      <td>53</td>\n",
              "    </tr>\n",
              "    <tr>\n",
              "      <th>7</th>\n",
              "      <td>Fawn</td>\n",
              "      <td>27</td>\n",
              "    </tr>\n",
              "    <tr>\n",
              "      <th>8</th>\n",
              "      <td>Black</td>\n",
              "      <td>2</td>\n",
              "    </tr>\n",
              "    <tr>\n",
              "      <th>9</th>\n",
              "      <td>White</td>\n",
              "      <td>53</td>\n",
              "    </tr>\n",
              "    <tr>\n",
              "      <th>10</th>\n",
              "      <td>Black</td>\n",
              "      <td>2</td>\n",
              "    </tr>\n",
              "  </tbody>\n",
              "</table>\n",
              "</div>"
            ],
            "text/plain": [
              "      color_type  color_type_code\n",
              "0          Black                2\n",
              "1   Orange Tabby               38\n",
              "2          Black                2\n",
              "3          Black                2\n",
              "4          Brown               15\n",
              "5    Brown Tabby               18\n",
              "6          White               53\n",
              "7           Fawn               27\n",
              "8          Black                2\n",
              "9          White               53\n",
              "10         Black                2"
            ]
          },
          "metadata": {
            "tags": []
          },
          "execution_count": 72
        }
      ]
    },
    {
      "cell_type": "markdown",
      "metadata": {
        "id": "Myz5yE5vbn3N",
        "colab_type": "text"
      },
      "source": [
        "Dropping the column from both the training and testing dataset"
      ]
    },
    {
      "cell_type": "code",
      "metadata": {
        "id": "WCtuVsZjZ6fe",
        "colab_type": "code",
        "colab": {
          "base_uri": "https://localhost:8080/",
          "height": 493
        },
        "outputId": "f53fff0d-f7a7-4665-98a5-bef46f8a59d4"
      },
      "source": [
        "df_train_new['color_type_code'].unique()\n",
        "\n",
        "df_train_new=df_train_new.drop(columns=['color_type'])\n",
        "\n",
        "print(df_train_new.head(25))"
      ],
      "execution_count": null,
      "outputs": [
        {
          "output_type": "stream",
          "text": [
            "        pet_id  condition  length(m)  ...  pet_category  diff_days  color_type_code\n",
            "0   ANSL_69903        2.0       0.80  ...             1         73               18\n",
            "1   ANSL_66892        1.0       0.72  ...             2       1862               53\n",
            "2   ANSL_69750        3.0       0.15  ...             4        752               15\n",
            "3   ANSL_71623        1.0       0.62  ...             2        755               53\n",
            "4   ANSL_57969        2.0       0.50  ...             1         52                2\n",
            "5   ANSL_52200        0.0       0.92  ...             2        501               40\n",
            "6   ANSL_75444        2.0       0.14  ...             1        154               18\n",
            "7   ANSL_52759        0.0       0.15  ...             1         89               53\n",
            "8   ANSL_74632        2.0       0.05  ...             2        299               15\n",
            "9   ANSL_56464        2.0       0.55  ...             2       1123               15\n",
            "10  ANSL_69485        0.0       0.30  ...             2       4411               52\n",
            "11  ANSL_51014        2.0       0.44  ...             1        236               18\n",
            "12  ANSL_76771        1.0       0.20  ...             2        822                2\n",
            "13  ANSL_69252        1.0       0.45  ...             2        183               53\n",
            "14  ANSL_58085        0.0       0.48  ...             1         93               21\n",
            "15  ANSL_63686        1.0       0.18  ...             1         82                2\n",
            "16  ANSL_66127        1.0       0.88  ...             2        228               40\n",
            "17  ANSL_52366        1.0       0.93  ...             2       3673                2\n",
            "18  ANSL_55607        2.0       0.76  ...             2       1491               16\n",
            "19  ANSL_72451        0.0       0.96  ...             1         98                2\n",
            "20  ANSL_66055        1.0       0.66  ...             1       3125               18\n",
            "21  ANSL_50488        3.0       0.45  ...             4        202               15\n",
            "22  ANSL_68751        0.0       0.92  ...             2         71               53\n",
            "23  ANSL_57387        0.0       0.31  ...             2        870                7\n",
            "24  ANSL_67782        2.0       0.51  ...             2       2349                2\n",
            "\n",
            "[25 rows x 10 columns]\n"
          ],
          "name": "stdout"
        }
      ]
    },
    {
      "cell_type": "code",
      "metadata": {
        "id": "UP5G_uGWfs3t",
        "colab_type": "code",
        "colab": {
          "base_uri": "https://localhost:8080/",
          "height": 493
        },
        "outputId": "dbd22b21-81e3-4161-9445-6a4601d1a254"
      },
      "source": [
        "df_test_new['color_type_code'].unique()\n",
        "\n",
        "df_test_new=df_test_new.drop(columns=['color_type'])\n",
        "\n",
        "print(df_test_new.head(25))"
      ],
      "execution_count": null,
      "outputs": [
        {
          "output_type": "stream",
          "text": [
            "        pet_id  condition  length(m)  ...  X2  diff_days  color_type_code\n",
            "0   ANSL_75005        0.0       0.87  ...   7       4404                2\n",
            "1   ANSL_76663        1.0       0.06  ...   1        174               38\n",
            "2   ANSL_58259        1.0       0.24  ...   7       1999                2\n",
            "3   ANSL_67171        1.0       0.29  ...   1       1148                2\n",
            "4   ANSL_72871        1.0       0.71  ...   7        463               15\n",
            "5   ANSL_64886        0.0       0.90  ...   9        389               18\n",
            "6   ANSL_73798        0.0       0.87  ...   9        812               53\n",
            "7   ANSL_53131        0.0       0.06  ...   1        562               27\n",
            "8   ANSL_66674        2.0       0.82  ...   9         69                2\n",
            "9   ANSL_55165        2.0       0.76  ...   9        753               53\n",
            "10  ANSL_74518        2.0       0.95  ...   9        388                2\n",
            "11  ANSL_72217        1.0       0.29  ...   1       1867                2\n",
            "12  ANSL_55812        1.0       0.23  ...   7       1613                2\n",
            "13  ANSL_55318        0.0       0.79  ...   1         76               15\n",
            "14  ANSL_65677        0.0       0.18  ...   1       2121               40\n",
            "15  ANSL_74873        0.0       0.40  ...   1        419                2\n",
            "16  ANSL_56546        0.0       0.94  ...   1        107               12\n",
            "17  ANSL_76135        1.0       0.39  ...   1        115               48\n",
            "18  ANSL_64881        2.0       0.99  ...   9        766                2\n",
            "19  ANSL_73262        3.0       0.94  ...   4        204               15\n",
            "20  ANSL_69908        1.0       0.02  ...   1        190               12\n",
            "21  ANSL_76469        2.0       0.01  ...   9        753                1\n",
            "22  ANSL_65785        1.0       0.79  ...   1         89               18\n",
            "23  ANSL_74284        1.0       0.99  ...   1        759               52\n",
            "24  ANSL_58262        0.0       0.62  ...   1        394               53\n",
            "\n",
            "[25 rows x 8 columns]\n"
          ],
          "name": "stdout"
        }
      ]
    },
    {
      "cell_type": "markdown",
      "metadata": {
        "id": "fYdL1xSMTD6Z",
        "colab_type": "text"
      },
      "source": [
        "# Distribution of values in some features"
      ]
    },
    {
      "cell_type": "code",
      "metadata": {
        "id": "Q6IYURedTIjk",
        "colab_type": "code",
        "colab": {
          "base_uri": "https://localhost:8080/",
          "height": 68
        },
        "outputId": "030d6307-1e83-4cff-a233-44fb6ce8d087"
      },
      "source": [
        "print(df_train_new.columns)"
      ],
      "execution_count": null,
      "outputs": [
        {
          "output_type": "stream",
          "text": [
            "Index(['pet_id', 'condition', 'length(m)', 'height(cm)', 'X1', 'X2',\n",
            "       'breed_category', 'pet_category', 'diff_days', 'color_type_code'],\n",
            "      dtype='object')\n"
          ],
          "name": "stdout"
        }
      ]
    },
    {
      "cell_type": "markdown",
      "metadata": {
        "id": "DnGluyHTb_C3",
        "colab_type": "text"
      },
      "source": [
        "Checking skewness of Length(m)"
      ]
    },
    {
      "cell_type": "code",
      "metadata": {
        "id": "j0kS0bFLThoW",
        "colab_type": "code",
        "colab": {
          "base_uri": "https://localhost:8080/",
          "height": 529
        },
        "outputId": "a51411f2-8a25-410c-8cc8-ec1e20e95fd0"
      },
      "source": [
        "import seaborn as sns\n",
        "import matplotlib.pyplot as plt\n",
        "from scipy.stats import skew \n",
        "sns.set_style(\"white\")\n",
        "sns.set_color_codes(palette='deep')\n",
        "f, ax = plt.subplots(figsize=(8, 7))\n",
        "#Check the distribution \n",
        "sns.distplot(df_train_new['length(m)'], color=\"b\");\n",
        "ax.xaxis.grid(False)\n",
        "ax.set(ylabel=\"Frequency\")\n",
        "ax.set(xlabel=\"Length\")\n",
        "ax.set(title=\"Length distribution\")\n",
        "sns.despine(trim=True, left=True)\n",
        "plt.show()\n",
        "\n",
        "print(\"skew value: \", skew(df_train_new['length(m)']))"
      ],
      "execution_count": null,
      "outputs": [
        {
          "output_type": "stream",
          "text": [
            "/usr/local/lib/python3.6/dist-packages/statsmodels/tools/_testing.py:19: FutureWarning: pandas.util.testing is deprecated. Use the functions in the public API at pandas.testing instead.\n",
            "  import pandas.util.testing as tm\n"
          ],
          "name": "stderr"
        },
        {
          "output_type": "display_data",
          "data": {
            "image/png": "[encoded data removed]",
            "text/plain": [
              "<Figure size 576x504 with 1 Axes>"
            ]
          },
          "metadata": {
            "tags": []
          }
        },
        {
          "output_type": "stream",
          "text": [
            "skew value:  -0.0024468843922843607\n"
          ],
          "name": "stdout"
        }
      ]
    },
    {
      "cell_type": "markdown",
      "metadata": {
        "id": "PjPW6e_7cP9f",
        "colab_type": "text"
      },
      "source": [
        "Checking skewness of Height(cm)"
      ]
    },
    {
      "cell_type": "code",
      "metadata": {
        "id": "Vh6rKcIATzPa",
        "colab_type": "code",
        "colab": {
          "base_uri": "https://localhost:8080/",
          "height": 475
        },
        "outputId": "83967d1b-85f5-407e-e9bd-4073661e85a6"
      },
      "source": [
        "import seaborn as sns\n",
        "import matplotlib.pyplot as plt\n",
        "from scipy.stats import skew \n",
        "sns.set_style(\"white\")\n",
        "sns.set_color_codes(palette='deep')\n",
        "f, ax = plt.subplots(figsize=(8, 7))\n",
        "#Check the distribution \n",
        "sns.distplot(df_train_new['height(cm)'], color=\"b\");\n",
        "ax.xaxis.grid(False)\n",
        "ax.set(ylabel=\"Frequency\")\n",
        "ax.set(xlabel=\"Height\")\n",
        "ax.set(title=\"Height distribution\")\n",
        "sns.despine(trim=True, left=True)\n",
        "plt.show()\n",
        "\n",
        "print(\"skew value: \", skew(df_train_new['height(cm)']))"
      ],
      "execution_count": null,
      "outputs": [
        {
          "output_type": "display_data",
          "data": {
            "image/png": "[encoded data removed]",
            "text/plain": [
              "<Figure size 576x504 with 1 Axes>"
            ]
          },
          "metadata": {
            "tags": []
          }
        },
        {
          "output_type": "stream",
          "text": [
            "skew value:  0.008524748460917272\n"
          ],
          "name": "stdout"
        }
      ]
    },
    {
      "cell_type": "markdown",
      "metadata": {
        "id": "kNm_xZEHcgNL",
        "colab_type": "text"
      },
      "source": [
        "Checking skewness of X1"
      ]
    },
    {
      "cell_type": "code",
      "metadata": {
        "id": "__jAkdEmUE7O",
        "colab_type": "code",
        "colab": {
          "base_uri": "https://localhost:8080/",
          "height": 475
        },
        "outputId": "c66b90b7-d845-4423-b22a-26e9ffedca12"
      },
      "source": [
        "import seaborn as sns\n",
        "import matplotlib.pyplot as plt\n",
        "from scipy.stats import skew \n",
        "sns.set_style(\"white\")\n",
        "sns.set_color_codes(palette='deep')\n",
        "f, ax = plt.subplots(figsize=(8, 7))\n",
        "#Check the distribution \n",
        "sns.distplot(df_train_new['X1'], color=\"b\");\n",
        "ax.xaxis.grid(False)\n",
        "ax.set(ylabel=\"Frequency\")\n",
        "ax.set(xlabel=\"X1\")\n",
        "ax.set(title=\"X1 distribution\")\n",
        "sns.despine(trim=True, left=True)\n",
        "plt.show()\n",
        "\n",
        "print(\"skew value: \", skew(df_train_new['X1']))"
      ],
      "execution_count": null,
      "outputs": [
        {
          "output_type": "display_data",
          "data": {
            "image/png": "[encoded data removed]",
            "text/plain": [
              "<Figure size 576x504 with 1 Axes>"
            ]
          },
          "metadata": {
            "tags": []
          }
        },
        {
          "output_type": "stream",
          "text": [
            "skew value:  0.5637012019162411\n"
          ],
          "name": "stdout"
        }
      ]
    },
    {
      "cell_type": "markdown",
      "metadata": {
        "id": "lWy4DHCjcoPq",
        "colab_type": "text"
      },
      "source": [
        "Checking skewness of X2"
      ]
    },
    {
      "cell_type": "code",
      "metadata": {
        "id": "hluA3UyMUPmp",
        "colab_type": "code",
        "colab": {
          "base_uri": "https://localhost:8080/",
          "height": 475
        },
        "outputId": "3c3d1eed-245f-43f8-f125-b4ac13b55446"
      },
      "source": [
        "import seaborn as sns\n",
        "import matplotlib.pyplot as plt\n",
        "from scipy.stats import skew \n",
        "sns.set_style(\"white\")\n",
        "sns.set_color_codes(palette='deep')\n",
        "f, ax = plt.subplots(figsize=(8, 7))\n",
        "#Check the distribution \n",
        "sns.distplot(df_train_new['X2'], color=\"b\");\n",
        "ax.xaxis.grid(False)\n",
        "ax.set(ylabel=\"Frequency\")\n",
        "ax.set(xlabel=\"X2\")\n",
        "ax.set(title=\"X2 distribution\")\n",
        "sns.despine(trim=True, left=True)\n",
        "plt.show()\n",
        "\n",
        "print(\"skew value: \", skew(df_train_new['X2']))"
      ],
      "execution_count": null,
      "outputs": [
        {
          "output_type": "display_data",
          "data": {
            "image/png": "[encoded data removed]",
            "text/plain": [
              "<Figure size 576x504 with 1 Axes>"
            ]
          },
          "metadata": {
            "tags": []
          }
        },
        {
          "output_type": "stream",
          "text": [
            "skew value:  0.1290969596483043\n"
          ],
          "name": "stdout"
        }
      ]
    },
    {
      "cell_type": "markdown",
      "metadata": {
        "id": "sRyTeR-oW98-",
        "colab_type": "text"
      },
      "source": [
        "We noticed that only in column X1, there is high skewness, so we take the log transform of that column both in training and testing dataset"
      ]
    },
    {
      "cell_type": "markdown",
      "metadata": {
        "id": "l45HUKS5c2et",
        "colab_type": "text"
      },
      "source": [
        "For Training Dataset"
      ]
    },
    {
      "cell_type": "code",
      "metadata": {
        "id": "HCA9BFv3UV7z",
        "colab_type": "code",
        "colab": {
          "base_uri": "https://localhost:8080/",
          "height": 475
        },
        "outputId": "d8f7835c-cf1e-4d2f-a0c1-9a400e2a3146"
      },
      "source": [
        "# to check skewness of X1 Score\n",
        "import seaborn as sns\n",
        "import matplotlib.pyplot as plt\n",
        "from scipy.stats import skew \n",
        "X1_trans=np.log(1+df_train_new['X1'].values)\n",
        "sns.set_style(\"white\")\n",
        "sns.set_color_codes(palette='deep')\n",
        "f, ax = plt.subplots(figsize=(8, 7))\n",
        "#Check the distribution \n",
        "sns.distplot(X1_trans, color=\"b\");\n",
        "ax.xaxis.grid(False)\n",
        "ax.set(ylabel=\"Frequency\")\n",
        "ax.set(xlabel=\"X1\")\n",
        "ax.set(title=\"X1 distribution\")\n",
        "sns.despine(trim=True, left=True)\n",
        "plt.show()\n",
        "\n",
        "print(\"skew value: \", skew(X1_trans))"
      ],
      "execution_count": null,
      "outputs": [
        {
          "output_type": "display_data",
          "data": {
            "image/png": "[encoded data removed]",
            "text/plain": [
              "<Figure size 576x504 with 1 Axes>"
            ]
          },
          "metadata": {
            "tags": []
          }
        },
        {
          "output_type": "stream",
          "text": [
            "skew value:  0.3500333532324617\n"
          ],
          "name": "stdout"
        }
      ]
    },
    {
      "cell_type": "markdown",
      "metadata": {
        "id": "sVaQszkec5vC",
        "colab_type": "text"
      },
      "source": [
        "For Testing Dataset"
      ]
    },
    {
      "cell_type": "code",
      "metadata": {
        "id": "36ZutRJzVuUo",
        "colab_type": "code",
        "colab": {
          "base_uri": "https://localhost:8080/",
          "height": 475
        },
        "outputId": "4043b1b1-4d64-4970-e0f1-d1d7b5a36dc9"
      },
      "source": [
        "import seaborn as sns\n",
        "import matplotlib.pyplot as plt\n",
        "from scipy.stats import skew \n",
        "X1_trans_test=np.log(1+df_test_new['X1'].values)\n",
        "sns.set_style(\"white\")\n",
        "sns.set_color_codes(palette='deep')\n",
        "f, ax = plt.subplots(figsize=(8, 7))\n",
        "#Check the distribution \n",
        "sns.distplot(X1_trans, color=\"b\");\n",
        "ax.xaxis.grid(False)\n",
        "ax.set(ylabel=\"Frequency\")\n",
        "ax.set(xlabel=\"X1\")\n",
        "ax.set(title=\"X1 distribution\")\n",
        "sns.despine(trim=True, left=True)\n",
        "plt.show()\n",
        "\n",
        "print(\"skew value: \", skew(X1_trans_test))"
      ],
      "execution_count": null,
      "outputs": [
        {
          "output_type": "display_data",
          "data": {
            "image/png": "[encoded data removed]",
            "text/plain": [
              "<Figure size 576x504 with 1 Axes>"
            ]
          },
          "metadata": {
            "tags": []
          }
        },
        {
          "output_type": "stream",
          "text": [
            "skew value:  0.37313424850718874\n"
          ],
          "name": "stdout"
        }
      ]
    },
    {
      "cell_type": "code",
      "metadata": {
        "id": "eyUqgTwGVi1E",
        "colab_type": "code",
        "colab": {}
      },
      "source": [
        "df_train_norm=df_train_new\n",
        "df_train_norm['X1']=X1_trans\n",
        "\n",
        "df_test_norm=df_test_new\n",
        "df_test_norm['X1']=X1_trans_test"
      ],
      "execution_count": null,
      "outputs": []
    },
    {
      "cell_type": "markdown",
      "metadata": {
        "id": "5CFww-H5dBQM",
        "colab_type": "text"
      },
      "source": [
        "# Creating features on basis of magnitude of Length and Height"
      ]
    },
    {
      "cell_type": "markdown",
      "metadata": {
        "id": "wfpW1SLb3ePq",
        "colab_type": "text"
      },
      "source": [
        "* Length: high (0 to 0.3) , medium (0.3 to 0.6) , high( 0.6 to 1.0)\n",
        "* Height: high (0 to 15) , medium (15 to 30) , high(30 to 45)"
      ]
    },
    {
      "cell_type": "code",
      "metadata": {
        "id": "hsWD57iy39jA",
        "colab_type": "code",
        "colab": {}
      },
      "source": [
        "df_train_norm['Low_Height']=np.where(df_train_norm['height(cm)']<=15,1,0)\n",
        "df_train_norm['Medium_Height']=np.where(((df_train_norm['height(cm)']>15) & (df_train_norm['height(cm)']<=30)),1,0)\n",
        "df_train_norm['High_Height']=np.where(df_train_norm['height(cm)']>30,1,0)\n",
        "\n",
        "df_test_norm['Low_Height']=np.where(df_test_norm['height(cm)']<=15,1,0)\n",
        "df_test_norm['Medium_Height']=np.where(((df_test_norm['height(cm)']>15) & (df_test_norm['height(cm)']<=30)),1,0)\n",
        "df_test_norm['High_Height']=np.where(df_test_norm['height(cm)']>30,1,0)"
      ],
      "execution_count": null,
      "outputs": []
    },
    {
      "cell_type": "code",
      "metadata": {
        "id": "ATCgFuj44f9x",
        "colab_type": "code",
        "colab": {}
      },
      "source": [
        "df_train_norm['Low_Length']=np.where(df_train_norm['length(m)']<=0.3,1,0)\n",
        "df_train_norm['Medium_Length']=np.where((df_train_norm['length(m)']>0.3) & (df_train_norm['length(m)']<=0.6),1,0)\n",
        "df_train_norm['High_Length']=np.where(df_train_norm['length(m)']>0.6,1,0)\n",
        "\n",
        "df_test_norm['Low_Length']=np.where(df_test_norm['length(m)']<=0.3,1,0)\n",
        "df_test_norm['Medium_Length']=np.where((df_test_norm['length(m)']>0.3) & (df_test_norm['length(m)']<=0.6),1,0)\n",
        "df_test_norm['High_Length']=np.where(df_test_norm['length(m)']>0.6,1,0)"
      ],
      "execution_count": null,
      "outputs": []
    },
    {
      "cell_type": "code",
      "metadata": {
        "id": "GdZSh3KbK7Lt",
        "colab_type": "code",
        "colab": {
          "base_uri": "https://localhost:8080/",
          "height": 408
        },
        "outputId": "5bf5bbf2-cfa4-47ce-928b-21cab9e61641"
      },
      "source": [
        "print(df_train_norm.head(20))"
      ],
      "execution_count": null,
      "outputs": [
        {
          "output_type": "stream",
          "text": [
            "        pet_id  condition  length(m)  ...  Low_Length  Medium_Length  High_Length\n",
            "0   ANSL_69903        2.0       0.80  ...           0              0            1\n",
            "1   ANSL_66892        1.0       0.72  ...           0              0            1\n",
            "2   ANSL_69750        3.0       0.15  ...           1              0            0\n",
            "3   ANSL_71623        1.0       0.62  ...           0              0            1\n",
            "4   ANSL_57969        2.0       0.50  ...           0              1            0\n",
            "5   ANSL_52200        0.0       0.92  ...           0              0            1\n",
            "6   ANSL_75444        2.0       0.14  ...           1              0            0\n",
            "7   ANSL_52759        0.0       0.15  ...           1              0            0\n",
            "8   ANSL_74632        2.0       0.05  ...           1              0            0\n",
            "9   ANSL_56464        2.0       0.55  ...           0              1            0\n",
            "10  ANSL_69485        0.0       0.30  ...           1              0            0\n",
            "11  ANSL_51014        2.0       0.44  ...           0              1            0\n",
            "12  ANSL_76771        1.0       0.20  ...           1              0            0\n",
            "13  ANSL_69252        1.0       0.45  ...           0              1            0\n",
            "14  ANSL_58085        0.0       0.48  ...           0              1            0\n",
            "15  ANSL_63686        1.0       0.18  ...           1              0            0\n",
            "16  ANSL_66127        1.0       0.88  ...           0              0            1\n",
            "17  ANSL_52366        1.0       0.93  ...           0              0            1\n",
            "18  ANSL_55607        2.0       0.76  ...           0              0            1\n",
            "19  ANSL_72451        0.0       0.96  ...           0              0            1\n",
            "\n",
            "[20 rows x 16 columns]\n"
          ],
          "name": "stdout"
        }
      ]
    },
    {
      "cell_type": "markdown",
      "metadata": {
        "id": "wzbDmhl4dc5d",
        "colab_type": "text"
      },
      "source": [
        "# XGBoost training and validation"
      ]
    },
    {
      "cell_type": "code",
      "metadata": {
        "id": "HUekaeOzWlx3",
        "colab_type": "code",
        "colab": {
          "base_uri": "https://localhost:8080/",
          "height": 221
        },
        "outputId": "fa7c8190-c67d-491d-a659-a46cdef2a66b"
      },
      "source": [
        "from sklearn.model_selection import train_test_split\n",
        "\n",
        "Y=df_train_norm['pet_category'].values\n",
        "X=df_train_norm.drop(columns=['pet_category','pet_id','breed_category'])\n",
        "\n",
        "X_train, X_test, y_train, y_test=train_test_split(X,Y,test_size=0.2,random_state=0)\n",
        "\n",
        "print(X_train.shape)\n",
        "print(X_test.shape)\n",
        "print(y_train.shape)\n",
        "print(y_test.shape)\n",
        "\n",
        "import xgboost as xgb\n",
        "from xgboost import XGBClassifier\n",
        "from sklearn.metrics import accuracy_score\n",
        "from sklearn.metrics import f1_score\n",
        "\n",
        "model=XGBClassifier()\n",
        "model.fit(X_train,y_train)\n",
        "y_pred=model.predict(X_test)\n",
        "print(f1_score(y_pred,y_test,average='weighted'))\n",
        "print(accuracy_score(y_pred,y_test))\n",
        "\n",
        "\n",
        "\n",
        "from sklearn.model_selection import train_test_split\n",
        "\n",
        "Y=df_train_norm['breed_category'].values\n",
        "X=df_train_norm.drop(columns=['pet_category','pet_id','breed_category'])\n",
        "\n",
        "X_train, X_test, y_train, y_test=train_test_split(X,Y,test_size=0.2,random_state=0)\n",
        "\n",
        "\n",
        "print(X_train.shape)\n",
        "print(X_test.shape)\n",
        "print(y_train.shape)\n",
        "print(y_test.shape)\n",
        "\n",
        "from sklearn.ensemble import RandomForestClassifier\n",
        "from sklearn.metrics import accuracy_score\n",
        "from sklearn.metrics import f1_score\n",
        "\n",
        "model2=XGBClassifier()\n",
        "model2.fit(X_train,y_train)\n",
        "y_pred=model2.predict(X_test)\n",
        "print(f1_score(y_pred,y_test,average='weighted'))\n",
        "print(accuracy_score(y_pred,y_test))"
      ],
      "execution_count": null,
      "outputs": [
        {
          "output_type": "stream",
          "text": [
            "(15067, 13)\n",
            "(3767, 13)\n",
            "(15067,)\n",
            "(3767,)\n",
            "0.8899366641659971\n",
            "0.8882399787629414\n",
            "(15067, 13)\n",
            "(3767, 13)\n",
            "(15067,)\n",
            "(3767,)\n",
            "0.9088845987298031\n",
            "0.9086806477302893\n"
          ],
          "name": "stdout"
        }
      ]
    },
    {
      "cell_type": "code",
      "metadata": {
        "id": "nNtwQT8rXKqc",
        "colab_type": "code",
        "colab": {}
      },
      "source": [
        "from sklearn.model_selection import train_test_split\n",
        "\n",
        "#Y_test_fin=df_test_new['pet_category'].values\n",
        "idx=df_test_norm['pet_id'].values\n",
        "X_test_fin=df_test_norm.drop(columns=['pet_id'])\n",
        "\n",
        "\n",
        "y_pred_fin=model.predict(X_test_fin)\n",
        "\n",
        "\n",
        "from sklearn.model_selection import train_test_split\n",
        "\n",
        "#Y_test_fin=df_test_new['pet_category'].values\n",
        "idx=df_test_norm['pet_id'].values\n",
        "X_test_fin=df_test_norm.drop(columns=['pet_id'])\n",
        "\n",
        "\n",
        "y_pred_fin2=model2.predict(X_test_fin)\n",
        "\n",
        "\n",
        "df_sub = pd.DataFrame({'pet_id': idx,\n",
        "                   'breed_category': y_pred_fin2,\n",
        "                   'pet_category': y_pred_fin})\n",
        "df_sub.to_csv('submit.csv',index=False)"
      ],
      "execution_count": null,
      "outputs": []
    },
    {
      "cell_type": "markdown",
      "metadata": {
        "id": "EwZsWtAsXl1f",
        "colab_type": "text"
      },
      "source": [
        "XGBoost without any parameter tuning gave performance f1 score of 89.71 on submission \\"
      ]
    },
    {
      "cell_type": "markdown",
      "metadata": {
        "id": "5xs-tWqHfdis",
        "colab_type": "text"
      },
      "source": [
        "# XGBoost Parameter tuning"
      ]
    },
    {
      "cell_type": "code",
      "metadata": {
        "id": "0Gloz9ElXqfy",
        "colab_type": "code",
        "colab": {
          "base_uri": "https://localhost:8080/",
          "height": 221
        },
        "outputId": "3664e080-5d35-4f7e-c311-917b8ba608a9"
      },
      "source": [
        "from sklearn.model_selection import train_test_split\n",
        "\n",
        "Y=df_train_norm['pet_category'].values\n",
        "X=df_train_norm.drop(columns=['pet_category','pet_id','breed_category'])\n",
        "\n",
        "X_train, X_test, y_train, y_test=train_test_split(X,Y,test_size=0.2,random_state=0)\n",
        "\n",
        "print(X_train.shape)\n",
        "print(X_test.shape)\n",
        "print(y_train.shape)\n",
        "print(y_test.shape)\n",
        "\n",
        "import xgboost as xgb\n",
        "from xgboost import XGBClassifier\n",
        "from sklearn.metrics import accuracy_score\n",
        "from sklearn.metrics import f1_score\n",
        "\n",
        "model=XGBClassifier(silent=False, \n",
        "                      scale_pos_weight=1,\n",
        "                      learning_rate=0.4,  \n",
        "                      colsample_bytree = 0.4,\n",
        "                      subsample = 0.8,\n",
        "                      objective='binary:logistic', \n",
        "                      n_estimators=1000, \n",
        "                      reg_alpha = 0.3,\n",
        "                      max_depth=4, \n",
        "                      gamma=4)\n",
        "\n",
        "model.fit(X_train,y_train)\n",
        "y_pred=model.predict(X_test)\n",
        "print(f1_score(y_pred,y_test,average='weighted'))\n",
        "print(accuracy_score(y_pred,y_test))\n",
        "\n",
        "\n",
        "\n",
        "from sklearn.model_selection import train_test_split\n",
        "\n",
        "Y=df_train_norm['breed_category'].values\n",
        "X=df_train_norm.drop(columns=['pet_category','pet_id','breed_category'])\n",
        "\n",
        "X_train, X_test, y_train, y_test=train_test_split(X,Y,test_size=0.2,random_state=0)\n",
        "\n",
        "\n",
        "print(X_train.shape)\n",
        "print(X_test.shape)\n",
        "print(y_train.shape)\n",
        "print(y_test.shape)\n",
        "\n",
        "from sklearn.ensemble import RandomForestClassifier\n",
        "from sklearn.metrics import accuracy_score\n",
        "from sklearn.metrics import f1_score\n",
        "\n",
        "model2=XGBClassifier(silent=False, \n",
        "                      scale_pos_weight=1,\n",
        "                      learning_rate=0.4,  \n",
        "                      colsample_bytree = 0.4,\n",
        "                      subsample = 0.8,\n",
        "                      objective='binary:logistic', \n",
        "                      n_estimators=1000, \n",
        "                      reg_alpha = 0.3,\n",
        "                      max_depth=4, \n",
        "                      gamma=4)\n",
        "model2.fit(X_train,y_train)\n",
        "y_pred=model2.predict(X_test)\n",
        "print(f1_score(y_pred,y_test,average='weighted'))\n",
        "print(accuracy_score(y_pred,y_test))"
      ],
      "execution_count": null,
      "outputs": [
        {
          "output_type": "stream",
          "text": [
            "(12618, 13)\n",
            "(6216, 13)\n",
            "(12618,)\n",
            "(6216,)\n",
            "0.9004730896340712\n",
            "0.8992921492921493\n",
            "(12618, 13)\n",
            "(6216, 13)\n",
            "(12618,)\n",
            "(6216,)\n",
            "0.8997540085696951\n",
            "0.8996138996138996\n"
          ],
          "name": "stdout"
        }
      ]
    },
    {
      "cell_type": "code",
      "metadata": {
        "id": "zoxnqV3RYS5b",
        "colab_type": "code",
        "colab": {}
      },
      "source": [
        "from sklearn.model_selection import train_test_split\n",
        "\n",
        "#Y_test_fin=df_test_new['pet_category'].values\n",
        "idx=df_test_norm['pet_id'].values\n",
        "X_test_fin=df_test_norm.drop(columns=['pet_id'])\n",
        "\n",
        "\n",
        "y_pred_fin=model.predict(X_test_fin)\n",
        "\n",
        "\n",
        "from sklearn.model_selection import train_test_split\n",
        "\n",
        "#Y_test_fin=df_test_new['pet_category'].values\n",
        "idx=df_test_norm['pet_id'].values\n",
        "X_test_fin=df_test_norm.drop(columns=['pet_id'])\n",
        "\n",
        "\n",
        "y_pred_fin2=model2.predict(X_test_fin)\n",
        "\n",
        "\n",
        "df_sub = pd.DataFrame({'pet_id': idx,\n",
        "                   'breed_category': y_pred_fin2,\n",
        "                   'pet_category': y_pred_fin})\n",
        "df_sub.to_csv('submit.csv',index=False)"
      ],
      "execution_count": null,
      "outputs": []
    },
    {
      "cell_type": "markdown",
      "metadata": {
        "id": "sw2BuoWBZM3Y",
        "colab_type": "text"
      },
      "source": [
        "Observations of performance with respect to learning rate:\n",
        "\n",
        "* learning rate=0.01 (89.75)\n",
        "* learning rate=0.1 (90.04)\n",
        "* learning rate=0.4 (90.17)\n",
        "* learning rate=0.6 (90.14)"
      ]
    },
    {
      "cell_type": "markdown",
      "metadata": {
        "id": "gKcw8-N1sr8z",
        "colab_type": "text"
      },
      "source": [
        "Now the 'max_depth' parameter is decreased from 4 and tried with 3, 2 and 1. \n",
        "\n",
        "It is found that 4 is optimal"
      ]
    },
    {
      "cell_type": "markdown",
      "metadata": {
        "id": "p3rC3gH3gJDK",
        "colab_type": "text"
      },
      "source": [
        "The subsample is increased from 0.8 but we found that it is optimal\n"
      ]
    },
    {
      "cell_type": "markdown",
      "metadata": {
        "id": "Dd6ekNB4geYD",
        "colab_type": "text"
      },
      "source": [
        "Performance with respect to 'gamma' parameter original \n",
        "* gamme= 5 (90.57)\n",
        "* gamma= 4 (90.7)\n",
        "\n",
        "gamma=4 is optimal"
      ]
    },
    {
      "cell_type": "markdown",
      "metadata": {
        "id": "vbtwXcQDg4wG",
        "colab_type": "text"
      },
      "source": [
        "# Training the final XGBoost tuned model"
      ]
    },
    {
      "cell_type": "code",
      "metadata": {
        "id": "ff1vpl7pxOjI",
        "colab_type": "code",
        "colab": {
          "base_uri": "https://localhost:8080/",
          "height": 52
        },
        "outputId": "63fbfae7-1d06-40af-91cc-bf016deee96c"
      },
      "source": [
        "from sklearn.model_selection import train_test_split\n",
        "\n",
        "Y=df_train_norm['pet_category'].values\n",
        "X=df_train_norm.drop(columns=['pet_category','pet_id','breed_category'])\n",
        "'''\n",
        "X_train, X_test, y_train, y_test=train_test_split(X,Y,test_size=0.2,random_state=0)\n",
        "\n",
        "print(X_train.shape)\n",
        "print(X_test.shape)\n",
        "print(y_train.shape)\n",
        "print(y_test.shape)\n",
        "'''\n",
        "import xgboost as xgb\n",
        "from xgboost import XGBClassifier\n",
        "from sklearn.metrics import accuracy_score\n",
        "from sklearn.metrics import f1_score\n",
        "\n",
        "modelx=XGBClassifier(silent=False, \n",
        "                      scale_pos_weight=1,\n",
        "                      learning_rate=0.4,  \n",
        "                      colsample_bytree = 0.4,\n",
        "                      subsample = 0.8,\n",
        "                      objective='binary:logistic', \n",
        "                      n_estimators=1000, \n",
        "                      reg_alpha = 0.3,\n",
        "                      max_depth=4, \n",
        "                      gamma=4)\n",
        "\n",
        "modelx.fit(X,Y)\n",
        "\n",
        "'''\n",
        "y_pred=model.predict(X_test)\n",
        "print(f1_score(y_pred,y_test,average='weighted'))\n",
        "print(accuracy_score(y_pred,y_test))\n",
        "\n",
        "'''\n",
        "\n",
        "from sklearn.model_selection import train_test_split\n",
        "\n",
        "Y=df_train_norm['breed_category'].values\n",
        "X=df_train_norm.drop(columns=['pet_category','pet_id','breed_category'])\n",
        "'''\n",
        "X_train, X_test, y_train, y_test=train_test_split(X,Y,test_size=0.2,random_state=0)\n",
        "\n",
        "\n",
        "print(X_train.shape)\n",
        "print(X_test.shape)\n",
        "print(y_train.shape)\n",
        "print(y_test.shape)\n",
        "'''\n",
        "from sklearn.ensemble import RandomForestClassifier\n",
        "from sklearn.metrics import accuracy_score\n",
        "from sklearn.metrics import f1_score\n",
        "\n",
        "modelx2=XGBClassifier(silent=False, \n",
        "                      scale_pos_weight=1,\n",
        "                      learning_rate=0.4,  \n",
        "                      colsample_bytree = 0.4,\n",
        "                      subsample = 0.8,\n",
        "                      objective='binary:logistic', \n",
        "                      n_estimators=1000, \n",
        "                      reg_alpha = 0.3,\n",
        "                      max_depth=4, \n",
        "                      gamma=4)\n",
        "modelx2.fit(X,Y)\n",
        "'''\n",
        "y_pred=model2.predict(X_test)\n",
        "print(f1_score(y_pred,y_test,average='weighted'))\n",
        "print(accuracy_score(y_pred,y_test))\n",
        "\n",
        "'''"
      ],
      "execution_count": null,
      "outputs": [
        {
          "output_type": "execute_result",
          "data": {
            "application/vnd.google.colaboratory.intrinsic+json": {
              "type": "string"
            },
            "text/plain": [
              "\"\\ny_pred=model2.predict(X_test)\\nprint(f1_score(y_pred,y_test,average='weighted'))\\nprint(accuracy_score(y_pred,y_test))\\n\\n\""
            ]
          },
          "metadata": {
            "tags": []
          },
          "execution_count": 82
        }
      ]
    },
    {
      "cell_type": "markdown",
      "metadata": {
        "id": "DLNQwfUTg82o",
        "colab_type": "text"
      },
      "source": [
        "# Testing the data and submission"
      ]
    },
    {
      "cell_type": "code",
      "metadata": {
        "id": "d-MLL0uKOjeY",
        "colab_type": "code",
        "colab": {}
      },
      "source": [
        "from sklearn.model_selection import train_test_split\n",
        "\n",
        "#Y_test_fin=df_test_new['pet_category'].values\n",
        "idx=df_test_norm['pet_id'].values\n",
        "X_test_fin=df_test_norm.drop(columns=['pet_id'])\n",
        "\n",
        "\n",
        "y_pred_fin=modelx.predict(X_test_fin)\n",
        "\n",
        "\n",
        "from sklearn.model_selection import train_test_split\n",
        "\n",
        "#Y_test_fin=df_test_new['pet_category'].values\n",
        "idx=df_test_norm['pet_id'].values\n",
        "X_test_fin=df_test_norm.drop(columns=['pet_id'])\n",
        "\n",
        "\n",
        "y_pred_fin2=modelx2.predict(X_test_fin)\n",
        "\n",
        "\n",
        "df_sub = pd.DataFrame({'pet_id': idx,\n",
        "                   'breed_category': y_pred_fin2,\n",
        "                   'pet_category': y_pred_fin})\n",
        "df_sub.to_csv('submit.csv',index=False)"
      ],
      "execution_count": null,
      "outputs": []
    },
    {
      "cell_type": "markdown",
      "metadata": {
        "id": "_N8-BnldiGxY",
        "colab_type": "text"
      },
      "source": [
        "# Final Inference"
      ]
    },
    {
      "cell_type": "markdown",
      "metadata": {
        "id": "itEwJryYx_ko",
        "colab_type": "text"
      },
      "source": [
        "90.81 without train_test_split"
      ]
    },
    {
      "cell_type": "markdown",
      "metadata": {
        "id": "S8hVqEw4hIF6",
        "colab_type": "text"
      },
      "source": [
        "After this it is checked the diff_days column had negative values for two cases in the training dataset. So used np.abs() for calculation of difference. \\\n",
        "After retraining the model and testing it, final f1 score acheived on submission is 90.83"
      ]
    },
    {
      "cell_type": "markdown",
      "metadata": {
        "id": "h9eF-mIQU4HB",
        "colab_type": "text"
      },
      "source": [
        "Apart from XgBoost classifier, I had tried with RandomForest, LGBM and CatBoost Classifier too, but it was found that XgBoost performed the best"
      ]
    }
  ]
}